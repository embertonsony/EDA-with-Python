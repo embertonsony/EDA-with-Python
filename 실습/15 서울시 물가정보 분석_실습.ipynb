{
 "cells": [
  {
   "cell_type": "markdown",
   "id": "066f9e1c",
   "metadata": {},
   "source": [
    "* 데이터 수집       \n",
    "http://data.seoul.go.kr/dataList/OA-1170/S/1/datasetView.do"
   ]
  },
  {
   "cell_type": "code",
   "execution_count": 1,
   "id": "ce5fcecb",
   "metadata": {},
   "outputs": [],
   "source": [
    "import pandas as pd\n",
    "import matplotlib.pyplot as plt"
   ]
  },
  {
   "cell_type": "code",
   "execution_count": null,
   "id": "8ea0d76a",
   "metadata": {},
   "outputs": [],
   "source": [
    "# 그래프를 노트북 안에 그리기 위해 설정\n",
    "%matplotlib inline\n",
    "\n",
    "# 필요한 패키지와 라이브러리 가져온다.\n",
    "import matplotlib as mpl\n",
    "import matplotlib.pyplot as plt\n",
    "import matplotlib.font_manager as fm\n",
    "\n",
    "# 그래프에서 마이너스 폰트 깨지는 문제에 대한 대처\n",
    "mpl.rcParams['axes.unicode_minus'] = False\n",
    "\n",
    "# 폰트 지정하기\n",
    "plt.rcParams['font.family'] = 'NanumBarunGothic'"
   ]
  },
  {
   "cell_type": "markdown",
   "id": "c085428f",
   "metadata": {},
   "source": [
    "# 데이터 수집"
   ]
  },
  {
   "cell_type": "markdown",
   "id": "edde5825",
   "metadata": {},
   "source": [
    "## 데이터프레임 생성\n",
    "* csv 파일을 데이터프레임으로 만들기\n",
    "* encoding='cp949'"
   ]
  },
  {
   "cell_type": "code",
   "execution_count": 2,
   "id": "df5141a0",
   "metadata": {},
   "outputs": [],
   "source": [
    "df = pd.read_csv('01_data_KFO/생필품 농수축산물 가격 정보(2021년1월_6월).csv', encoding='cp949')"
   ]
  },
  {
   "cell_type": "code",
   "execution_count": 3,
   "id": "060cf52d",
   "metadata": {
    "scrolled": false
   },
   "outputs": [
    {
     "data": {
      "text/html": [
       "<div>\n",
       "<style scoped>\n",
       "    .dataframe tbody tr th:only-of-type {\n",
       "        vertical-align: middle;\n",
       "    }\n",
       "\n",
       "    .dataframe tbody tr th {\n",
       "        vertical-align: top;\n",
       "    }\n",
       "\n",
       "    .dataframe thead th {\n",
       "        text-align: right;\n",
       "    }\n",
       "</style>\n",
       "<table border=\"1\" class=\"dataframe\">\n",
       "  <thead>\n",
       "    <tr style=\"text-align: right;\">\n",
       "      <th></th>\n",
       "      <th>일련번호</th>\n",
       "      <th>시장/마트 번호</th>\n",
       "      <th>시장/마트 이름</th>\n",
       "      <th>품목 번호</th>\n",
       "      <th>품목 이름</th>\n",
       "      <th>실판매규격</th>\n",
       "      <th>가격(원)</th>\n",
       "      <th>년도-월</th>\n",
       "      <th>비고</th>\n",
       "      <th>시장유형 구분(시장/마트) 코드</th>\n",
       "      <th>시장유형 구분(시장/마트) 이름</th>\n",
       "      <th>자치구 코드</th>\n",
       "      <th>자치구 이름</th>\n",
       "      <th>점검일자</th>\n",
       "    </tr>\n",
       "  </thead>\n",
       "  <tbody>\n",
       "    <tr>\n",
       "      <th>0</th>\n",
       "      <td>1673336</td>\n",
       "      <td>2</td>\n",
       "      <td>신세계백화점</td>\n",
       "      <td>133</td>\n",
       "      <td>무(세척무)</td>\n",
       "      <td>1개</td>\n",
       "      <td>2980</td>\n",
       "      <td>2021-06</td>\n",
       "      <td>국내산,세척무</td>\n",
       "      <td>2</td>\n",
       "      <td>대형마트</td>\n",
       "      <td>140000</td>\n",
       "      <td>중구</td>\n",
       "      <td>2021-06-24</td>\n",
       "    </tr>\n",
       "    <tr>\n",
       "      <th>1</th>\n",
       "      <td>1667985</td>\n",
       "      <td>228</td>\n",
       "      <td>방배종합시장</td>\n",
       "      <td>23</td>\n",
       "      <td>상추</td>\n",
       "      <td>1봉150g</td>\n",
       "      <td>1500</td>\n",
       "      <td>2021-06</td>\n",
       "      <td>국내산</td>\n",
       "      <td>1</td>\n",
       "      <td>전통시장</td>\n",
       "      <td>650000</td>\n",
       "      <td>서초구</td>\n",
       "      <td>2021-06-24</td>\n",
       "    </tr>\n",
       "    <tr>\n",
       "      <th>2</th>\n",
       "      <td>1666935</td>\n",
       "      <td>1</td>\n",
       "      <td>통인시장</td>\n",
       "      <td>266</td>\n",
       "      <td>고등어(생물,국산)</td>\n",
       "      <td>1마리</td>\n",
       "      <td>4000</td>\n",
       "      <td>2021-06</td>\n",
       "      <td>국내산,생물</td>\n",
       "      <td>1</td>\n",
       "      <td>전통시장</td>\n",
       "      <td>110000</td>\n",
       "      <td>종로구</td>\n",
       "      <td>2021-06-24</td>\n",
       "    </tr>\n",
       "    <tr>\n",
       "      <th>3</th>\n",
       "      <td>1671116</td>\n",
       "      <td>25</td>\n",
       "      <td>방학동도깨비시장</td>\n",
       "      <td>268</td>\n",
       "      <td>고등어(냉동,국산)</td>\n",
       "      <td>350g</td>\n",
       "      <td>2500</td>\n",
       "      <td>2021-06</td>\n",
       "      <td>국내산</td>\n",
       "      <td>1</td>\n",
       "      <td>전통시장</td>\n",
       "      <td>320000</td>\n",
       "      <td>도봉구</td>\n",
       "      <td>2021-06-24</td>\n",
       "    </tr>\n",
       "    <tr>\n",
       "      <th>4</th>\n",
       "      <td>1667066</td>\n",
       "      <td>6</td>\n",
       "      <td>이마트 용산점</td>\n",
       "      <td>171</td>\n",
       "      <td>달걀(10개)</td>\n",
       "      <td>15구</td>\n",
       "      <td>5980</td>\n",
       "      <td>2021-06</td>\n",
       "      <td>낭이생생대란</td>\n",
       "      <td>2</td>\n",
       "      <td>대형마트</td>\n",
       "      <td>170000</td>\n",
       "      <td>용산구</td>\n",
       "      <td>2021-06-24</td>\n",
       "    </tr>\n",
       "    <tr>\n",
       "      <th>...</th>\n",
       "      <td>...</td>\n",
       "      <td>...</td>\n",
       "      <td>...</td>\n",
       "      <td>...</td>\n",
       "      <td>...</td>\n",
       "      <td>...</td>\n",
       "      <td>...</td>\n",
       "      <td>...</td>\n",
       "      <td>...</td>\n",
       "      <td>...</td>\n",
       "      <td>...</td>\n",
       "      <td>...</td>\n",
       "      <td>...</td>\n",
       "      <td>...</td>\n",
       "    </tr>\n",
       "    <tr>\n",
       "      <th>42694</th>\n",
       "      <td>1636118</td>\n",
       "      <td>226</td>\n",
       "      <td>롯데마트 구로점</td>\n",
       "      <td>171</td>\n",
       "      <td>달걀(10개)</td>\n",
       "      <td>10개(600g)</td>\n",
       "      <td>2990</td>\n",
       "      <td>2021-01</td>\n",
       "      <td>국내산,특란</td>\n",
       "      <td>2</td>\n",
       "      <td>대형마트</td>\n",
       "      <td>530000</td>\n",
       "      <td>구로구</td>\n",
       "      <td>2021-01-21</td>\n",
       "    </tr>\n",
       "    <tr>\n",
       "      <th>42695</th>\n",
       "      <td>1636108</td>\n",
       "      <td>226</td>\n",
       "      <td>롯데마트 구로점</td>\n",
       "      <td>27</td>\n",
       "      <td>배</td>\n",
       "      <td>1개 (600g)</td>\n",
       "      <td>1590</td>\n",
       "      <td>2021-01</td>\n",
       "      <td>국내산,신고</td>\n",
       "      <td>2</td>\n",
       "      <td>대형마트</td>\n",
       "      <td>530000</td>\n",
       "      <td>구로구</td>\n",
       "      <td>2021-01-21</td>\n",
       "    </tr>\n",
       "    <tr>\n",
       "      <th>42696</th>\n",
       "      <td>1636114</td>\n",
       "      <td>226</td>\n",
       "      <td>롯데마트 구로점</td>\n",
       "      <td>312</td>\n",
       "      <td>애호박</td>\n",
       "      <td>1개 (300g)</td>\n",
       "      <td>2790</td>\n",
       "      <td>2021-01</td>\n",
       "      <td>국내산,청원</td>\n",
       "      <td>2</td>\n",
       "      <td>대형마트</td>\n",
       "      <td>530000</td>\n",
       "      <td>구로구</td>\n",
       "      <td>2021-01-21</td>\n",
       "    </tr>\n",
       "    <tr>\n",
       "      <th>42697</th>\n",
       "      <td>1636113</td>\n",
       "      <td>226</td>\n",
       "      <td>롯데마트 구로점</td>\n",
       "      <td>22</td>\n",
       "      <td>오이</td>\n",
       "      <td>1개 (200g)</td>\n",
       "      <td>1190</td>\n",
       "      <td>2021-01</td>\n",
       "      <td>국내산,백오이</td>\n",
       "      <td>2</td>\n",
       "      <td>대형마트</td>\n",
       "      <td>530000</td>\n",
       "      <td>구로구</td>\n",
       "      <td>2021-01-21</td>\n",
       "    </tr>\n",
       "    <tr>\n",
       "      <th>42698</th>\n",
       "      <td>1636121</td>\n",
       "      <td>226</td>\n",
       "      <td>롯데마트 구로점</td>\n",
       "      <td>302</td>\n",
       "      <td>명태</td>\n",
       "      <td>1마리(600g)</td>\n",
       "      <td>1670</td>\n",
       "      <td>2021-01</td>\n",
       "      <td>수입산,코다리,냉동</td>\n",
       "      <td>2</td>\n",
       "      <td>대형마트</td>\n",
       "      <td>530000</td>\n",
       "      <td>구로구</td>\n",
       "      <td>2021-01-21</td>\n",
       "    </tr>\n",
       "  </tbody>\n",
       "</table>\n",
       "<p>42699 rows × 14 columns</p>\n",
       "</div>"
      ],
      "text/plain": [
       "          일련번호  시장/마트 번호  시장/마트 이름  품목 번호       품목 이름      실판매규격  가격(원)  \\\n",
       "0      1673336         2    신세계백화점    133      무(세척무)         1개   2980   \n",
       "1      1667985       228    방배종합시장     23          상추     1봉150g   1500   \n",
       "2      1666935         1      통인시장    266  고등어(생물,국산)        1마리   4000   \n",
       "3      1671116        25  방학동도깨비시장    268  고등어(냉동,국산)       350g   2500   \n",
       "4      1667066         6   이마트 용산점    171     달걀(10개)        15구   5980   \n",
       "...        ...       ...       ...    ...         ...        ...    ...   \n",
       "42694  1636118       226  롯데마트 구로점    171     달걀(10개)  10개(600g)   2990   \n",
       "42695  1636108       226  롯데마트 구로점     27           배  1개 (600g)   1590   \n",
       "42696  1636114       226  롯데마트 구로점    312         애호박  1개 (300g)   2790   \n",
       "42697  1636113       226  롯데마트 구로점     22          오이  1개 (200g)   1190   \n",
       "42698  1636121       226  롯데마트 구로점    302          명태  1마리(600g)   1670   \n",
       "\n",
       "          년도-월          비고  시장유형 구분(시장/마트) 코드 시장유형 구분(시장/마트) 이름  자치구 코드  \\\n",
       "0      2021-06     국내산,세척무                  2              대형마트  140000   \n",
       "1      2021-06         국내산                  1              전통시장  650000   \n",
       "2      2021-06      국내산,생물                  1              전통시장  110000   \n",
       "3      2021-06         국내산                  1              전통시장  320000   \n",
       "4      2021-06      낭이생생대란                  2              대형마트  170000   \n",
       "...        ...         ...                ...               ...     ...   \n",
       "42694  2021-01      국내산,특란                  2              대형마트  530000   \n",
       "42695  2021-01      국내산,신고                  2              대형마트  530000   \n",
       "42696  2021-01      국내산,청원                  2              대형마트  530000   \n",
       "42697  2021-01     국내산,백오이                  2              대형마트  530000   \n",
       "42698  2021-01  수입산,코다리,냉동                  2              대형마트  530000   \n",
       "\n",
       "      자치구 이름        점검일자  \n",
       "0         중구  2021-06-24  \n",
       "1        서초구  2021-06-24  \n",
       "2        종로구  2021-06-24  \n",
       "3        도봉구  2021-06-24  \n",
       "4        용산구  2021-06-24  \n",
       "...      ...         ...  \n",
       "42694    구로구  2021-01-21  \n",
       "42695    구로구  2021-01-21  \n",
       "42696    구로구  2021-01-21  \n",
       "42697    구로구  2021-01-21  \n",
       "42698    구로구  2021-01-21  \n",
       "\n",
       "[42699 rows x 14 columns]"
      ]
     },
     "execution_count": 3,
     "metadata": {},
     "output_type": "execute_result"
    }
   ],
   "source": [
    "df"
   ]
  },
  {
   "cell_type": "markdown",
   "id": "b3604c1e",
   "metadata": {},
   "source": [
    "## 결측치 확인"
   ]
  },
  {
   "cell_type": "code",
   "execution_count": null,
   "id": "879bb932",
   "metadata": {
    "scrolled": false
   },
   "outputs": [],
   "source": []
  },
  {
   "cell_type": "markdown",
   "id": "19176e77",
   "metadata": {},
   "source": [
    "## 자료형 확인"
   ]
  },
  {
   "cell_type": "code",
   "execution_count": null,
   "id": "c0224112",
   "metadata": {
    "scrolled": false
   },
   "outputs": [],
   "source": []
  },
  {
   "cell_type": "markdown",
   "id": "008c6787",
   "metadata": {},
   "source": [
    "# 데이터 확인"
   ]
  },
  {
   "cell_type": "markdown",
   "id": "36459f0a",
   "metadata": {},
   "source": [
    "## 컬럼별 데이터 확인"
   ]
  },
  {
   "cell_type": "code",
   "execution_count": null,
   "id": "86e88a84",
   "metadata": {
    "scrolled": true
   },
   "outputs": [],
   "source": []
  },
  {
   "cell_type": "markdown",
   "id": "ec699832",
   "metadata": {},
   "source": [
    "## 시장/마트 목록"
   ]
  },
  {
   "cell_type": "code",
   "execution_count": null,
   "id": "ec19d1a8",
   "metadata": {},
   "outputs": [],
   "source": [
    "# 시장/마트 목록"
   ]
  },
  {
   "cell_type": "code",
   "execution_count": null,
   "id": "445e6657",
   "metadata": {},
   "outputs": [],
   "source": []
  },
  {
   "cell_type": "code",
   "execution_count": null,
   "id": "8c936595",
   "metadata": {
    "scrolled": true
   },
   "outputs": [],
   "source": [
    "# 시장/마트 목록"
   ]
  },
  {
   "cell_type": "code",
   "execution_count": null,
   "id": "e60ddc17",
   "metadata": {},
   "outputs": [],
   "source": []
  },
  {
   "cell_type": "code",
   "execution_count": null,
   "id": "d7b55ef4",
   "metadata": {
    "scrolled": false
   },
   "outputs": [],
   "source": [
    "# 자치구 별 시장/마트 갯수\n",
    "df_market['자치구 이름'].value_counts()"
   ]
  },
  {
   "cell_type": "code",
   "execution_count": null,
   "id": "a11d8fc8",
   "metadata": {
    "scrolled": false
   },
   "outputs": [],
   "source": [
    "# 자치구 이름으로 시장/마트 확인"
   ]
  },
  {
   "cell_type": "markdown",
   "id": "524b5001",
   "metadata": {},
   "source": [
    "## 품목 목록"
   ]
  },
  {
   "cell_type": "code",
   "execution_count": null,
   "id": "2bdb440c",
   "metadata": {
    "scrolled": false
   },
   "outputs": [],
   "source": [
    "# 품목 목록"
   ]
  },
  {
   "cell_type": "code",
   "execution_count": null,
   "id": "04adc4c6",
   "metadata": {
    "scrolled": false
   },
   "outputs": [],
   "source": [
    "# 품목 이름 (30개씩 확인)"
   ]
  },
  {
   "cell_type": "code",
   "execution_count": null,
   "id": "da97aba8",
   "metadata": {
    "scrolled": false
   },
   "outputs": [],
   "source": []
  },
  {
   "cell_type": "code",
   "execution_count": null,
   "id": "16d2b2b8",
   "metadata": {
    "scrolled": false
   },
   "outputs": [],
   "source": []
  },
  {
   "cell_type": "markdown",
   "id": "4be13db2",
   "metadata": {},
   "source": [
    "## 자치구 목록"
   ]
  },
  {
   "cell_type": "code",
   "execution_count": null,
   "id": "f26f9d72",
   "metadata": {
    "scrolled": false
   },
   "outputs": [],
   "source": []
  },
  {
   "cell_type": "markdown",
   "id": "e00cef46",
   "metadata": {},
   "source": [
    "## 시장 유형"
   ]
  },
  {
   "cell_type": "code",
   "execution_count": null,
   "id": "9df74625",
   "metadata": {
    "scrolled": false
   },
   "outputs": [],
   "source": []
  },
  {
   "cell_type": "markdown",
   "id": "2210d9da",
   "metadata": {},
   "source": [
    "# 삼겹살 가격 분석"
   ]
  },
  {
   "cell_type": "markdown",
   "id": "e06a943a",
   "metadata": {},
   "source": [
    "## 삼겹살 데이터\n",
    "* 특정 문자열이 포함되어있는지 확인 : .str.contains(문자열)"
   ]
  },
  {
   "cell_type": "code",
   "execution_count": null,
   "id": "dbc6a707",
   "metadata": {
    "scrolled": false
   },
   "outputs": [],
   "source": [
    "# 2021-06 데이터 이용"
   ]
  },
  {
   "cell_type": "code",
   "execution_count": null,
   "id": "0079c393",
   "metadata": {},
   "outputs": [],
   "source": [
    "# 삼겹살 600g의 평균 가격은?"
   ]
  },
  {
   "cell_type": "code",
   "execution_count": null,
   "id": "6fe6958e",
   "metadata": {},
   "outputs": [],
   "source": [
    "# 삼겹살 600g의 최고 가격은?"
   ]
  },
  {
   "cell_type": "code",
   "execution_count": null,
   "id": "9a62ca22",
   "metadata": {
    "scrolled": false
   },
   "outputs": [],
   "source": []
  },
  {
   "cell_type": "code",
   "execution_count": null,
   "id": "7afe6858",
   "metadata": {},
   "outputs": [],
   "source": [
    "# 삼겹살 600g의 최저 가격은?"
   ]
  },
  {
   "cell_type": "markdown",
   "id": "3a28f4d4",
   "metadata": {},
   "source": [
    "## 우리동네 삼겹살 가격"
   ]
  },
  {
   "cell_type": "code",
   "execution_count": null,
   "id": "212a55a1",
   "metadata": {},
   "outputs": [],
   "source": []
  },
  {
   "cell_type": "code",
   "execution_count": null,
   "id": "8b7f69c5",
   "metadata": {
    "scrolled": false
   },
   "outputs": [],
   "source": [
    "# 우리구 삼겹살 가격"
   ]
  },
  {
   "cell_type": "code",
   "execution_count": null,
   "id": "7268542e",
   "metadata": {},
   "outputs": [],
   "source": [
    "# 시각화"
   ]
  },
  {
   "cell_type": "markdown",
   "id": "193234c2",
   "metadata": {},
   "source": [
    "## 마트 지점별 삼겹살 가격"
   ]
  },
  {
   "cell_type": "code",
   "execution_count": null,
   "id": "fd6799f3",
   "metadata": {},
   "outputs": [],
   "source": []
  },
  {
   "cell_type": "code",
   "execution_count": null,
   "id": "925dc6d1",
   "metadata": {
    "scrolled": false
   },
   "outputs": [],
   "source": [
    "# 마트 지점별 삼겹살 가격"
   ]
  },
  {
   "cell_type": "code",
   "execution_count": null,
   "id": "49703291",
   "metadata": {},
   "outputs": [],
   "source": [
    "# 시각화"
   ]
  },
  {
   "cell_type": "markdown",
   "id": "23a0ce1f",
   "metadata": {},
   "source": [
    "# 달걀 가격 분석"
   ]
  },
  {
   "cell_type": "markdown",
   "id": "a078ddb1",
   "metadata": {},
   "source": [
    "## 달걀 데이터"
   ]
  },
  {
   "cell_type": "code",
   "execution_count": null,
   "id": "f7f8ddc4",
   "metadata": {
    "scrolled": false
   },
   "outputs": [],
   "source": [
    "# 2021-06 데이터 이용"
   ]
  },
  {
   "cell_type": "code",
   "execution_count": null,
   "id": "d798b72d",
   "metadata": {},
   "outputs": [],
   "source": [
    "# 달걀 30구 평균 가격"
   ]
  },
  {
   "cell_type": "code",
   "execution_count": null,
   "id": "acff11c6",
   "metadata": {
    "scrolled": true
   },
   "outputs": [],
   "source": [
    "# 달걀 최고 가격"
   ]
  },
  {
   "cell_type": "code",
   "execution_count": null,
   "id": "5d8d8191",
   "metadata": {
    "scrolled": false
   },
   "outputs": [],
   "source": []
  },
  {
   "cell_type": "code",
   "execution_count": null,
   "id": "77341806",
   "metadata": {
    "scrolled": true
   },
   "outputs": [],
   "source": [
    "# 달걀 최저 가격"
   ]
  },
  {
   "cell_type": "markdown",
   "id": "c00a8923",
   "metadata": {},
   "source": [
    "## 우리동네 달걀 가격"
   ]
  },
  {
   "cell_type": "code",
   "execution_count": null,
   "id": "c7dd8112",
   "metadata": {
    "scrolled": true
   },
   "outputs": [],
   "source": []
  },
  {
   "cell_type": "code",
   "execution_count": null,
   "id": "49c08fb4",
   "metadata": {
    "scrolled": false
   },
   "outputs": [],
   "source": [
    "# 우리구 달걀 가격"
   ]
  },
  {
   "cell_type": "code",
   "execution_count": null,
   "id": "38d071e4",
   "metadata": {
    "scrolled": true
   },
   "outputs": [],
   "source": [
    "# 시각화"
   ]
  },
  {
   "cell_type": "markdown",
   "id": "0c639bb2",
   "metadata": {},
   "source": [
    "## 마트 지점별 달걀 가격"
   ]
  },
  {
   "cell_type": "code",
   "execution_count": null,
   "id": "8267dd71",
   "metadata": {
    "scrolled": true
   },
   "outputs": [],
   "source": []
  },
  {
   "cell_type": "code",
   "execution_count": null,
   "id": "44d64fdc",
   "metadata": {
    "scrolled": false
   },
   "outputs": [],
   "source": [
    "# 마트 지점별 달걀 가격"
   ]
  },
  {
   "cell_type": "code",
   "execution_count": null,
   "id": "2e126c19",
   "metadata": {
    "scrolled": true
   },
   "outputs": [],
   "source": [
    "# 시각화"
   ]
  }
 ],
 "metadata": {
  "kernelspec": {
   "display_name": "Python 3 (ipykernel)",
   "language": "python",
   "name": "python3"
  },
  "language_info": {
   "codemirror_mode": {
    "name": "ipython",
    "version": 3
   },
   "file_extension": ".py",
   "mimetype": "text/x-python",
   "name": "python",
   "nbconvert_exporter": "python",
   "pygments_lexer": "ipython3",
   "version": "3.10.9"
  },
  "toc": {
   "base_numbering": 1,
   "nav_menu": {},
   "number_sections": true,
   "sideBar": true,
   "skip_h1_title": false,
   "title_cell": "Table of Contents",
   "title_sidebar": "Contents",
   "toc_cell": false,
   "toc_position": {
    "height": "calc(100% - 180px)",
    "left": "10px",
    "top": "150px",
    "width": "165px"
   },
   "toc_section_display": true,
   "toc_window_display": true
  }
 },
 "nbformat": 4,
 "nbformat_minor": 5
}
